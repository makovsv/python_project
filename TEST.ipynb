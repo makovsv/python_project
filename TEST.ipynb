{
 "cells": [
  {
   "cell_type": "code",
   "execution_count": null,
   "metadata": {},
   "outputs": [],
   "source": [
    "import pandas as pd\n",
    "import scipy.stats as stats\n",
    "import matplotlib.pyplot as plt\n",
    "import numpy as np\n",
    "\n",
    "data = pd.read_csv('/Users/sergejmakov/Documents/Python/Titanic/train.csv', header=0, names=['PassengerId', 'Survived', 'Pclass', 'Name', 'Sex', 'Age', 'SibSp', 'Parch', 'Ticket', 'Fare', 'Cabin', 'Embarked'])\n",
    "\n",
    "\n",
    "#Descriptive statistics\n",
    "table=pd.DataFrame()    \n",
    "listvars = ['Age', 'Fare']\n",
    "listfunc = ['count', 'mean', 'median', 'mode', 'max', 'min', 'var', 'std', 'sem', 'skew', 'kurtosis']\n",
    "index = 0\n",
    "\n",
    "for w in listvars:\n",
    "    for i in listfunc:\n",
    "       w=pd.Series([])\n",
    "       function_call=('data[\\'%s\\'].%s()' % (w, i))\n",
    "       #print(function_call)\n",
    "       val1 =eval(function_call)\n",
    "       \n",
    "       Age.at[0]=714\n",
    "     \n",
    "       #ds1=('%s.at[%s]=%s' % (w, index, val1))\n",
    "       #print(ds1)\n",
    "        \n",
    "       index=index+1\n",
    "       #trueds=eval(ds1)"
   ]
  }
 ],
 "metadata": {
  "kernelspec": {
   "display_name": "Python 3",
   "language": "python",
   "name": "python3"
  },
  "language_info": {
   "codemirror_mode": {
    "name": "ipython",
    "version": 3
   },
   "file_extension": ".py",
   "mimetype": "text/x-python",
   "name": "python",
   "nbconvert_exporter": "python",
   "pygments_lexer": "ipython3",
   "version": "3.6.4"
  }
 },
 "nbformat": 4,
 "nbformat_minor": 2
}
