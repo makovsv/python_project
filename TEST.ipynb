{
 "cells": [
  {
   "cell_type": "code",
   "execution_count": null,
   "metadata": {},
   "outputs": [],
   "source": [
    "import pandas as pd\n",
    "import scipy.stats as stats\n",
    "import matplotlib.pyplot as plt\n",
    "import numpy as np\n",
    "\n",
    "data = pd.read_csv('/Users/sergejmakov/Documents/Python/Titanic/train.csv', header=0, names=['PassengerId', 'Survived', 'Pclass', 'Name', 'Sex', 'Age', 'SibSp', 'Parch', 'Ticket', 'Fare', 'Cabin', 'Embarked'])\n",
    "\n",
    "#data_survived = data.index['Survived' == 1]\n",
    "#data_survived = data[data.Survived == '1']\n",
    "\n",
    "#data_pivot = data.pivot_table('Age', 'Sex', aggfunc='mean')\n",
    "#data_pivot\n",
    "\n",
    "table = pd.DataFrame({'Age':['9']}, index=['mean'])\n",
    "table\n",
    "\n",
    "#Descriptive statistics\n",
    "    \n",
    "listvars = ['Age', 'Fare']\n",
    "listfunc = ['count', 'mean', 'median', 'mode', 'max', 'min', 'var', 'std', 'sem', 'skew', 'kurtosis']\n",
    "for w in listvars:\n",
    "   for i in listfunc:\n",
    "       function_call=('data[\\'%s\\'].%s()' % (w, i))\n",
    "       #print(function_call)\n",
    "       #namevar = data[w].eval(function_call)\n",
    "       val1 =eval(function_call)\n",
    "\n",
    "\n",
    "\n",
    "\n",
    "d = {'Age': pd.Series([agecount, agemean, agemedian, agemode, agemax, agemin, agerange, agevar, agestd, agesem, ageskew, agekur], index=['count', 'mean', 'median', 'mode', 'max', 'min', 'range', 'var', 'std', 'sem', 'skew', 'kur']),\n",
    "     'Fare': pd.Series([farecount, faremean, faremedian, faremode, faremax, faremin, farerange, farevar, farestd, faresem, fareskew, farekur], index=['count', 'mean', 'median', 'mode', 'max', 'min', 'range', 'var', 'std', 'sem', 'skew', 'kur'])}\n",
    "\n",
    "#table = pd.DataFrame(d)\n",
    "\n",
    "\n",
    "#Graphs\n",
    "\n",
    "data['interval'] = round(data.Fare/1)\n",
    "age_fr = data.groupby('interval').size()\n",
    "#age_fr.plot(kind='bar', figsize= (22, 20), title= \"Number of births per year\")\n",
    "#data.plot(kind='line', figsize= (22, 20), x='Age', grid= False, title= \"Number of births per year\")\n",
    "#data.sort_values(by='Fare')\n",
    "#plt.plot(x,mlab.normpdf(x, mu, sigma))\n",
    "#plt.show()\n",
    "\n",
    "#Correlations\n",
    "\n",
    "#x=data['Fare'].values\n",
    "#y=data['Survived'].values\n",
    "#print(type(x))\n",
    "\n",
    "#z = data['Age'].corr(data['Survived'])\n",
    "\n",
    "#stats.pearsonr(y, x)\n",
    "#data.isnull().sum()"
   ]
  }
 ],
 "metadata": {
  "kernelspec": {
   "display_name": "Python 3",
   "language": "python",
   "name": "python3"
  },
  "language_info": {
   "codemirror_mode": {
    "name": "ipython",
    "version": 3
   },
   "file_extension": ".py",
   "mimetype": "text/x-python",
   "name": "python",
   "nbconvert_exporter": "python",
   "pygments_lexer": "ipython3",
   "version": "3.6.4"
  }
 },
 "nbformat": 4,
 "nbformat_minor": 2
}
